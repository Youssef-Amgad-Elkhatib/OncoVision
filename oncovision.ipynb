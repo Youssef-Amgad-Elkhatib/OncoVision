{
 "metadata": {
  "kernelspec": {
   "name": "python3",
   "display_name": "Python 3",
   "language": "python"
  },
  "language_info": {
   "name": "python",
   "version": "3.11.13",
   "mimetype": "text/x-python",
   "codemirror_mode": {
    "name": "ipython",
    "version": 3
   },
   "pygments_lexer": "ipython3",
   "nbconvert_exporter": "python",
   "file_extension": ".py"
  },
  "colab": {
   "provenance": [],
   "gpuType": "T4"
  },
  "accelerator": "GPU",
  "kaggle": {
   "accelerator": "gpu",
   "dataSources": [
    {
     "sourceId": 12825132,
     "sourceType": "datasetVersion",
     "datasetId": 8110530
    }
   ],
   "dockerImageVersionId": 31090,
   "isInternetEnabled": true,
   "language": "python",
   "sourceType": "notebook",
   "isGpuEnabled": true
  }
 },
 "nbformat_minor": 5,
 "nbformat": 4,
 "cells": [
  {
   "id": "d7448371efb6bf62",
   "cell_type": "markdown",
   "source": "<a id=\"setup\"></a>\n# ⚙️ Setup",
   "metadata": {
    "id": "d7448371efb6bf62"
   }
  },
  {
   "id": "initial_id",
   "cell_type": "code",
   "source": [
    "#Import necessary Libraries\n",
    "\n",
    "import os\n",
    "import warnings\n",
    "import tensorflow as tf\n",
    "import seaborn as sns\n",
    "import random\n",
    "import numpy as np\n",
    "from tensorflow.keras.callbacks import Callback\n",
    "from keras import models, layers\n",
    "from matplotlib import pyplot as plt\n",
    "from sklearn.metrics import confusion_matrix, ConfusionMatrixDisplay, classification_report\n",
    "from tensorflow.keras.utils import to_categorical\n",
    "from sklearn.model_selection import train_test_split\n",
    "from tensorflow.keras import regularizers\n",
    "from sklearn.model_selection import train_test_split\n",
    "from tensorflow.keras.callbacks import ModelCheckpoint\n",
    "\n",
    "# Ignore warnings\n",
    "\n",
    "warnings.filterwarnings(\"ignore\")\n",
    "\n",
    "# Set Seed\n",
    "\n",
    "SEED = 42\n",
    "os.environ['PYTHONHASHSEED'] = str(SEED)\n",
    "os.environ['TF_DETERMINISTIC_OPS'] = '1'\n",
    "tf.config.threading.set_intra_op_parallelism_threads(1)\n",
    "tf.config.threading.set_inter_op_parallelism_threads(1)\n",
    "random.seed(SEED)\n",
    "np.random.seed(SEED)\n",
    "tf.random.set_seed(SEED)\n",
    "\n",
    "# Define Dataset Paths\n",
    "\n",
    "train_path = 'Training'\n",
    "test_path = 'Testing'"
   ],
   "metadata": {
    "ExecuteTime": {
     "end_time": "2025-07-29T22:56:28.612169Z",
     "start_time": "2025-07-29T22:56:28.593591Z"
    },
    "id": "initial_id",
    "trusted": true,
    "execution": {
     "iopub.status.busy": "2025-08-24T22:59:37.861411Z",
     "iopub.execute_input": "2025-08-24T22:59:37.861647Z",
     "iopub.status.idle": "2025-08-24T22:59:46.438467Z",
     "shell.execute_reply.started": "2025-08-24T22:59:37.861619Z",
     "shell.execute_reply": "2025-08-24T22:59:46.437887Z"
    }
   },
   "outputs": [
    {
     "name": "stderr",
     "text": "2025-08-24 22:59:39.300448: E external/local_xla/xla/stream_executor/cuda/cuda_fft.cc:477] Unable to register cuFFT factory: Attempting to register factory for plugin cuFFT when one has already been registered\nWARNING: All log messages before absl::InitializeLog() is called are written to STDERR\nE0000 00:00:1756076379.541861    3245 cuda_dnn.cc:8310] Unable to register cuDNN factory: Attempting to register factory for plugin cuDNN when one has already been registered\nE0000 00:00:1756076379.599635    3245 cuda_blas.cc:1418] Unable to register cuBLAS factory: Attempting to register factory for plugin cuBLAS when one has already been registered\n",
     "output_type": "stream"
    }
   ],
   "execution_count": 1
  },
  {
   "id": "8450d13e03f2799c",
   "cell_type": "markdown",
   "source": "<a id=\"Load\"></a>\n# 📂 Data Preperation",
   "metadata": {
    "id": "8450d13e03f2799c"
   }
  },
  {
   "id": "b87ee7a9f3d34a81",
   "cell_type": "code",
   "source": "# Load Dataset\n\ntrain_ds = tf.keras.preprocessing.image_dataset_from_directory(\n    train_path,\n    image_size=(299,299),\n    batch_size=32,\n    shuffle=True,\n    seed=SEED\n)\n\ntest_ds = tf.keras.preprocessing.image_dataset_from_directory(\n    test_path,\n    image_size=(299,299),\n    batch_size=32,\n    shuffle=True,\n    seed=SEED\n)\n\n# Augment Dataset\n\ndata_augmentation = tf.keras.Sequential([\n    tf.keras.layers.RandomFlip(\"horizontal\"),\n    tf.keras.layers.RandomRotation(0.1),\n    tf.keras.layers.RandomZoom(0.1),\n    tf.keras.layers.RandomContrast(0.1),\n])\n\ndata_augmentation_2 = tf.keras.Sequential([\n    tf.keras.layers.RandomFlip(\"horizontal\"),\n    tf.keras.layers.RandomRotation(0.1),\n    tf.keras.layers.RandomZoom(0.1),\n    tf.keras.layers.RandomContrast(0.1),\n])\n\naugmented_train_ds = train_ds.map(lambda x, y: (data_augmentation(x, training=True), y))\naugmented_train_ds_2 = train_ds.map(lambda x, y: (data_augmentation_2(x, training=True), y))\n\n# Combine original + augmented\n\ntrain_ds = train_ds.concatenate(augmented_train_ds)\ntrain_ds = train_ds.concatenate(augmented_train_ds_2)",
   "metadata": {
    "ExecuteTime": {
     "end_time": "2025-07-29T22:56:28.932218Z",
     "start_time": "2025-07-29T22:56:28.628931Z"
    },
    "colab": {
     "base_uri": "https://localhost:8080/"
    },
    "id": "b87ee7a9f3d34a81",
    "outputId": "215e3c13-7acd-403c-e903-d50af642ff00",
    "trusted": true,
    "execution": {
     "iopub.status.busy": "2025-08-24T22:59:46.439932Z",
     "iopub.execute_input": "2025-08-24T22:59:46.440403Z",
     "iopub.status.idle": "2025-08-24T22:59:52.575901Z",
     "shell.execute_reply.started": "2025-08-24T22:59:46.440383Z",
     "shell.execute_reply": "2025-08-24T22:59:52.575269Z"
    }
   },
   "outputs": [
    {
     "name": "stdout",
     "text": "Found 5712 files belonging to 4 classes.\n",
     "output_type": "stream"
    },
    {
     "name": "stderr",
     "text": "I0000 00:00:1756076389.712479    3245 gpu_device.cc:2022] Created device /job:localhost/replica:0/task:0/device:GPU:0 with 15513 MB memory:  -> device: 0, name: Tesla P100-PCIE-16GB, pci bus id: 0000:00:04.0, compute capability: 6.0\n",
     "output_type": "stream"
    },
    {
     "name": "stdout",
     "text": "Found 1311 files belonging to 4 classes.\n",
     "output_type": "stream"
    }
   ],
   "execution_count": 2
  },
  {
   "id": "2746e870b95c3e06",
   "cell_type": "markdown",
   "source": "<a id=\"Conversion\"></a>\n# 🔄 Data Conversion, Normalization, and Splitting",
   "metadata": {
    "id": "2746e870b95c3e06"
   }
  },
  {
   "id": "47c9f8d2386108a",
   "cell_type": "code",
   "source": "# Convert to grayscale and normalize data\n\ndef dataset_to_numpy(dataset):\n    x, y = [], []\n    for images, labels in dataset:\n        images = tf.image.rgb_to_grayscale(images)\n        images = tf.cast(images, tf.float32) / 255.0\n        x.append(images.numpy())\n        y.append(labels.numpy())\n    return np.concatenate(x), np.concatenate(y)\n\nx_train, y_train = dataset_to_numpy(train_ds)\nx_test, y_test   = dataset_to_numpy(test_ds)\n\ny_train = to_categorical(y_train, num_classes=4)\ny_test  = to_categorical(y_test, num_classes=4)\n\n# Split train into (train + validation)\n\nx_train_new, x_val, y_train_new, y_val = train_test_split(\n    x_train, y_train, test_size=0.2, random_state=SEED\n)",
   "metadata": {
    "ExecuteTime": {
     "end_time": "2025-07-29T22:56:36.089675Z",
     "start_time": "2025-07-29T22:56:28.937205Z"
    },
    "id": "47c9f8d2386108a",
    "trusted": true,
    "execution": {
     "iopub.status.busy": "2025-08-24T22:59:52.576639Z",
     "iopub.execute_input": "2025-08-24T22:59:52.576916Z"
    }
   },
   "outputs": [],
   "execution_count": null
  },
  {
   "id": "1a7a70370acc052e",
   "cell_type": "markdown",
   "source": "<a id=\" Model classes\"></a>\n# 🧩 Define Model Classes",
   "metadata": {
    "id": "1a7a70370acc052e"
   }
  },
  {
   "id": "56ca0b460437ae8c",
   "cell_type": "code",
   "source": "class_names = ['glioma', 'meningioma', 'notumor', 'pituitary']",
   "metadata": {
    "ExecuteTime": {
     "end_time": "2025-07-29T22:56:36.412695Z",
     "start_time": "2025-07-29T22:56:36.408215Z"
    },
    "id": "56ca0b460437ae8c",
    "trusted": true
   },
   "outputs": [],
   "execution_count": null
  },
  {
   "id": "6c9fecacc0851eec",
   "cell_type": "markdown",
   "source": "<a id=\"Model\"></a>\n# 🏗️ Model Architecture",
   "metadata": {
    "id": "6c9fecacc0851eec"
   }
  },
  {
   "id": "7969c2e8ee190d32",
   "cell_type": "code",
   "source": "def create_model(input_shape):\n    model = models.Sequential()\n\n    # Convolutional layer 1\n    model.add(layers.Conv2D(64, (5,5), activation=\"relu\", input_shape=input_shape))\n    model.add(layers.MaxPooling2D(pool_size=(3,3)))\n    model.add(layers.Dropout(0.2))\n\n    # Convolutional layer 2\n    model.add(layers.Conv2D(64, (5,5), activation=\"relu\"))\n    model.add(layers.MaxPooling2D(pool_size=(3,3)))\n    model.add(layers.Dropout(0.2))\n\n    # Convolutional layer 3\n    model.add(layers.Conv2D(128, (4,4), activation=\"relu\"))\n    model.add(layers.MaxPooling2D(pool_size=(2,2)))\n    model.add(layers.Dropout(0.3))\n\n    # Convolutional layer 4\n    model.add(layers.Conv2D(128, (4,4), activation=\"relu\"))\n    model.add(layers.MaxPooling2D(pool_size=(2,2)))\n    model.add(layers.Dropout(0.3))\n    \n\n    # Flatten\n    model.add(layers.Flatten())\n\n    # Dense layers\n    model.add(layers.Dense(512, activation=\"relu\", kernel_regularizer=regularizers.l2(1e-4)))\n    model.add(layers.Dropout(0.6))   \n    model.add(layers.Dense(4, activation=\"softmax\"))\n\n    # Compile model with Adam optimizer\n    optimizer = tf.keras.optimizers.Adam(learning_rate=0.001, beta_1=0.85, beta_2=0.9925)\n    loss = tf.keras.losses.CategoricalCrossentropy(label_smoothing=0.1)\n    model.compile(optimizer=optimizer, loss=loss, metrics=['accuracy'])\n\n\n    return model",
   "metadata": {
    "ExecuteTime": {
     "end_time": "2025-07-29T22:56:36.430456Z",
     "start_time": "2025-07-29T22:56:36.422920Z"
    },
    "id": "7969c2e8ee190d32",
    "trusted": true
   },
   "outputs": [],
   "execution_count": null
  },
  {
   "id": "844b3f9b-a442-4ecf-90f7-feefee045e2c",
   "cell_type": "markdown",
   "source": "<a id=\"Dual\"></a>\n# 🔀 DualMetricCheckpoint Class",
   "metadata": {}
  },
  {
   "id": "48014672-68bb-4d38-a48b-81fe858dbdbe",
   "cell_type": "code",
   "source": "# Class that saves the best model based on validation accuracy, then validation loss\n\nclass DualMetricCheckpoint(Callback):\n    def __init__(self, filepath):\n        super(DualMetricCheckpoint, self).__init__()\n        self.filepath = filepath\n        self.best_acc = -np.Inf\n        self.best_loss = np.Inf\n\n    def on_epoch_end(self, epoch, logs=None):\n        val_acc = logs.get(\"val_accuracy\")\n        val_loss = logs.get(\"val_loss\")\n\n        # If accuracy improves or (same acc within 1e-4 AND lower loss), save the model\n        if (val_acc > self.best_acc) or \\\n           (np.isclose(val_acc, self.best_acc, atol=1e-4) and val_loss < self.best_loss):\n            \n            print(f\"\\nEpoch {epoch+1}: val_accuracy={val_acc:.4f}, val_loss={val_loss:.4f} \"\n                  f\"--> saving best model\")\n            \n            self.best_acc = val_acc\n            self.best_loss = val_loss\n            self.model.save(self.filepath)",
   "metadata": {
    "trusted": true
   },
   "outputs": [],
   "execution_count": null
  },
  {
   "id": "e45cfb541e274e",
   "cell_type": "markdown",
   "source": "<a id=\"Training\"></a>\n# 📈 Training",
   "metadata": {
    "id": "e45cfb541e274e"
   }
  },
  {
   "id": "84ee06125d6e83b5",
   "cell_type": "code",
   "source": "# Train with checkpoint to save the best model\n\ncheckpoint = DualMetricCheckpoint(\"best_model.h5\")\n\n# Create the model\n\ninput_shape = x_train_new.shape[1:]\nmodel = create_model(input_shape)\n\n# Train the model\n\nhistory = model.fit(\n    x_train_new, y_train_new,\n    epochs=55,\n    batch_size=32,\n    verbose=1,\n    validation_data=(x_val, y_val),   \n    callbacks=[checkpoint]\n)",
   "metadata": {
    "ExecuteTime": {
     "end_time": "2025-07-29T23:40:38.069988Z",
     "start_time": "2025-07-29T22:56:36.442004Z"
    },
    "colab": {
     "base_uri": "https://localhost:8080/"
    },
    "id": "84ee06125d6e83b5",
    "outputId": "69a9671f-bde1-4664-aa6d-c0f9bf94dbca",
    "trusted": true
   },
   "outputs": [],
   "execution_count": null
  },
  {
   "id": "cff0718c-fe78-45e7-bf0c-a5616ebd9ee4",
   "cell_type": "markdown",
   "source": "<a id=\"Evaluation\"></a>\n# 🧪 Evaluation",
   "metadata": {}
  },
  {
   "id": "7f491401-9553-42a9-99e4-0029b7f26dd5",
   "cell_type": "code",
   "source": "# Load best saved model\n\nmodel.load_weights(\"best_model.h5\")\nhist = history.history\n\n# Find epoch where validation accuracy was best\n\nbest_epoch = np.argmax(hist[\"val_accuracy\"])\n\n# Evaluate model\n\ntrain_acc_best = hist[\"accuracy\"][best_epoch]\ntrain_loss_best = hist[\"loss\"][best_epoch]\nval_loss_best, val_acc_best     = model.evaluate(x_val, y_val, verbose=0)\ntest_loss_best, test_acc_best   = model.evaluate(x_test, y_test, verbose=0)\n\n# Display accuracies and losses\n\nprint(\"\\n=== Best Model Evaluation ===\\n\")\nprint(f\"Train Accuracy:      {train_acc_best:.4f}, Training loss: {train_loss_best:.4}\")\nprint(f\"Validation Accuracy: {val_acc_best:.4f}, Validation loss: {val_loss_best:.4}\")\nprint(f\"Test Accuracy:     {test_acc_best:.4f}, Test loss: {test_loss_best:.4}\")",
   "metadata": {
    "trusted": true
   },
   "outputs": [],
   "execution_count": null
  },
  {
   "id": "f5f98dec5bf81814",
   "cell_type": "markdown",
   "source": "<a id=\"Report\"></a>\n# 📑 Classification Report",
   "metadata": {
    "id": "f5f98dec5bf81814"
   }
  },
  {
   "id": "237eadd4ab9c038b",
   "cell_type": "code",
   "source": "# Convert one-hot encoded labels to class indices\n\ny_true = np.argmax(y_test, axis=1)\n\n# Convert predicted probabilities to class indices\n\ny_pred = model.predict(x_test, verbose=0)\ny_pred = np.argmax(y_pred, axis=1)\n\n# Generate classification report\n\nreport = classification_report(y_true, y_pred, target_names=class_names)\nprint(\"\\n\\n=== Classification Report ===\\n\\n\")\nprint(report)",
   "metadata": {
    "ExecuteTime": {
     "end_time": "2025-07-29T23:40:51.672674Z",
     "start_time": "2025-07-29T23:40:44.983176Z"
    },
    "id": "237eadd4ab9c038b",
    "trusted": true
   },
   "outputs": [],
   "execution_count": null
  },
  {
   "id": "3b97dfb2108947cd",
   "cell_type": "markdown",
   "source": "<a id=\"confusion matrix\"></a>\n# 🧮 Confusion Matrix",
   "metadata": {
    "id": "3b97dfb2108947cd"
   }
  },
  {
   "id": "969d70b1a94cd5a8",
   "cell_type": "code",
   "source": "# Display Confusion matrix\n\ncm = confusion_matrix(y_true, y_pred)\nplt.figure(figsize=(6, 5))\nsns.heatmap(cm, annot=True, fmt='d', cmap='Blues', xticklabels=class_names, yticklabels=class_names)\nplt.xlabel(\"Predicted\")\nplt.ylabel(\"Actual\")\nplt.title(\"Confusion Matrix\")\nplt.show()",
   "metadata": {
    "ExecuteTime": {
     "end_time": "2025-07-29T23:40:51.834870Z",
     "start_time": "2025-07-29T23:40:51.682785Z"
    },
    "id": "969d70b1a94cd5a8",
    "trusted": true
   },
   "outputs": [],
   "execution_count": null
  },
  {
   "id": "fcc06f6945fa06b6",
   "cell_type": "markdown",
   "source": "<a id=\"predictions\"></a>\n# 🎯 Sample Predictions",
   "metadata": {
    "id": "fcc06f6945fa06b6"
   }
  },
  {
   "id": "b3fcdf1545dd4d5b",
   "cell_type": "code",
   "source": "# Display 20 Sample predictions with images\n\nprint(\"\\n=== Sample Predictions (with images) ===\\n\\n\")\nfig, axes = plt.subplots(4, 5, figsize=(15, 12))\nfig.subplots_adjust(hspace=0.7)  \n\nfor i, ax in enumerate(axes.flat):\n    true_label = class_names[y_true[i]]\n    pred_label = class_names[y_pred[i]]\n    img = x_test[i].squeeze()\n    color = \"green\" if true_label == pred_label else \"red\"\n    ax.imshow(img, cmap='gray')\n    ax.set_title(f\"True: {true_label}\\nPred: {pred_label}\", fontsize=12,color=color)\n    ax.axis(\"off\")\n\nplt.show()",
   "metadata": {
    "ExecuteTime": {
     "end_time": "2025-07-29T23:40:53.729452Z",
     "start_time": "2025-07-29T23:40:51.844974Z"
    },
    "id": "b3fcdf1545dd4d5b",
    "trusted": true
   },
   "outputs": [],
   "execution_count": null
  },
  {
   "id": "c674821df71f6e4c",
   "cell_type": "markdown",
   "source": "<a id=\"visulaiztion\"></a>\n# 📊 Visualization",
   "metadata": {
    "id": "c674821df71f6e4c"
   }
  },
  {
   "id": "ad542893587bd593",
   "cell_type": "code",
   "source": "# Display Accuracies graph\n\nplt.figure(figsize=(8,5))\nplt.plot(history.history['accuracy'], label='Train Accuracy')\nplt.plot(history.history['val_accuracy'], label='Val Accuracy')\nplt.title(\"Model Accuracy\")\nplt.xlabel(\"Epoch\")\nplt.ylabel(\"Accuracy\")\nplt.legend()\nplt.show()\n\n# Display Losses graph\n\nplt.figure(figsize=(8,5))\nplt.plot(history.history['loss'], label='Train Loss')\nplt.plot(history.history['val_loss'], label='Val Loss')\nplt.title(\"Model Loss\")\nplt.xlabel(\"Epoch\")\nplt.ylabel(\"Loss\")\nplt.legend()\nplt.show()",
   "metadata": {
    "ExecuteTime": {
     "end_time": "2025-07-29T23:40:53.947892Z",
     "start_time": "2025-07-29T23:40:53.773254Z"
    },
    "id": "ad542893587bd593",
    "trusted": true
   },
   "outputs": [],
   "execution_count": null
  }
 ]
}
